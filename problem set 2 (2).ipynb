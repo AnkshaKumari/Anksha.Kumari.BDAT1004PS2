{
 "cells": [
  {
   "cell_type": "markdown",
   "id": "0c86d17d",
   "metadata": {},
   "source": [
    "Question 1) What value is displayed when the last expression (a) is evaluated? Explain youranswer by indicating what happens in every executed statement."
   ]
  },
  {
   "cell_type": "code",
   "execution_count": 1,
   "id": "f251b80d",
   "metadata": {},
   "outputs": [],
   "source": [
    "a = 0\n",
    "\n",
    "def b():\n",
    "    global a\n",
    "    a = c(a)\n",
    "    \n",
    "def c(a):\n",
    "    return a + 2\n"
   ]
  },
  {
   "cell_type": "code",
   "execution_count": 2,
   "id": "af46e22c",
   "metadata": {},
   "outputs": [],
   "source": [
    ">>> b()"
   ]
  },
  {
   "cell_type": "code",
   "execution_count": 3,
   "id": "060f19d7",
   "metadata": {},
   "outputs": [],
   "source": [
    ">>> b()"
   ]
  },
  {
   "cell_type": "code",
   "execution_count": 4,
   "id": "6bc9f2f3",
   "metadata": {},
   "outputs": [],
   "source": [
    ">>> b()"
   ]
  },
  {
   "cell_type": "code",
   "execution_count": 5,
   "id": "697bb1ff",
   "metadata": {},
   "outputs": [
    {
     "data": {
      "text/plain": [
       "6"
      ]
     },
     "execution_count": 5,
     "metadata": {},
     "output_type": "execute_result"
    }
   ],
   "source": [
    ">>> a"
   ]
  },
  {
   "cell_type": "markdown",
   "id": "89d41930",
   "metadata": {},
   "source": [
    "Explanation : In the first iteratrion, value of variable 'a' is 0 since it is declared as an global variable. When the function b() callS the function c(a), it will return the value 2 which is assigned with the variable 'a'. So, now when we call function b() again it willl pass the value of 'a' as 2 for the function c() will return the value 4. Likewise, in the third iteration function c() will return the value 6 . Thus , the result of print(a) is 6."
   ]
  },
  {
   "cell_type": "markdown",
   "id": "f07cf358",
   "metadata": {},
   "source": [
    "Question 2) Function fileLength(), given to you, takes the name of a file as input and returnsthe length of the file:"
   ]
  },
  {
   "cell_type": "code",
   "execution_count": 11,
   "id": "f4be493b",
   "metadata": {},
   "outputs": [
    {
     "name": "stdout",
     "output_type": "stream",
     "text": [
      "File filelength.py not found.\n",
      "File idterm.py not found.\n"
     ]
    }
   ],
   "source": [
    "def fileLength(filename):\n",
    "    try:\n",
    "        with open(filename, 'r') as file:\n",
    "            contents = file.read()      \n",
    "            print(len(contents))        \n",
    "    except FileNotFoundError:\n",
    "       \n",
    "        print(f\"File {filename} not found.\")\n",
    "    except:\n",
    "        \n",
    "        print(f\"An error occurred while reading {filename}.\")\n",
    "\n",
    "# Test cases\n",
    "fileLength('filelength.py')   \n",
    "fileLength('idterm.py')  "
   ]
  },
  {
   "cell_type": "markdown",
   "id": "e22c0b7d",
   "metadata": {},
   "source": [
    "Question:3)Write a class named Marsupial that can be used as shown below:\n",
    " Now write a class named Kangaroo as a subclass of Marsupial that inherits all theattributes of Marsupial and also:\n",
    " a. extends the Marsupial __init__ constructor to take, as input, thecoordinates x and y of the Kangaroo object\n",
    " b. supports method jump that takes number values dx and dy as input andmoves the kangaroo by dx units along the x-axis and by dy units along the y-axis\n",
    " c. overloads the __str__ operator so it behaves as shown below."
   ]
  },
  {
   "cell_type": "code",
   "execution_count": 2,
   "id": "21ae509c",
   "metadata": {},
   "outputs": [],
   "source": [
    "class Marsupial:\n",
    "    def __init__(self):\n",
    "        self.pouch = []\n",
    "\n",
    "    def put_in_pouch(self, val):\n",
    "        self.pouch.append(val)\n",
    "\n",
    "    def pouch_contents(self):\n",
    "        print(self.pouch)"
   ]
  },
  {
   "cell_type": "code",
   "execution_count": 3,
   "id": "205821cf",
   "metadata": {},
   "outputs": [
    {
     "name": "stdout",
     "output_type": "stream",
     "text": [
      "['doll', 'firetruck', 'kitten']\n"
     ]
    }
   ],
   "source": [
    "m = Marsupial()\n",
    "try:\n",
    "    m.put_in_pouch(\"doll\")\n",
    "    m.put_in_pouch(\"firetruck\")\n",
    "    m.put_in_pouch(\"kitten\")\n",
    "    m.pouch_contents()\n",
    "\n",
    "except AttributeError:\n",
    "    print(\"There is no such attribute\")"
   ]
  },
  {
   "cell_type": "code",
   "execution_count": 4,
   "id": "89defaec",
   "metadata": {},
   "outputs": [],
   "source": [
    "class Kangaroo(Marsupial):\n",
    "    def __init__(self, x, y):\n",
    "        super().__init__()\n",
    "        self.coordx = x\n",
    "        self.coordy = y\n",
    "\n",
    "    def jump(self, dx, dy):\n",
    "        self.coordx = self.coordx + dx\n",
    "        self.coordy = self.coordy + dy\n",
    "\n",
    "    def __str__(self):\n",
    "        print(\"I am a Kangaroo located at coordinates (%d, %d)\" %(self.coordx, self.coordy))\n",
    "        return \" \""
   ]
  },
  {
   "cell_type": "code",
   "execution_count": 5,
   "id": "fe43a524",
   "metadata": {},
   "outputs": [
    {
     "name": "stdout",
     "output_type": "stream",
     "text": [
      "I am a Kangaroo located at coordinates (0, 0)\n",
      " \n",
      "['doll', 'firetruck', 'kitten']\n",
      "I am a Kangaroo located at coordinates (3, 0)\n",
      " \n"
     ]
    }
   ],
   "source": [
    "k = Kangaroo(0,0)\n",
    "print(k)\n",
    "k.put_in_pouch(\"doll\")\n",
    "k.put_in_pouch(\"firetruck\")\n",
    "k.put_in_pouch(\"kitten\")\n",
    "k.pouch_contents()\n",
    "k.jump(1, 0)\n",
    "k.jump(1, 0)\n",
    "k.jump(1, 0)\n",
    "print(k)"
   ]
  },
  {
   "cell_type": "markdown",
   "id": "37ae28dd",
   "metadata": {},
   "source": [
    "Question:4) Write function collatz() that takes a positive integer x as input and prints theCollatz sequence starting at x. A Collatz sequence is obtained by repeatedly applyingthis rule to the previous number x in the sequence:x = { 𝑥/2 𝑖𝑓 𝑥 𝑖𝑠 𝑒𝑣𝑒𝑛3𝑥 + 1 𝑖𝑓 𝑥 𝑖𝑠 𝑜𝑑𝑑Your function should stop when the sequence gets to number 1. Yourimplementation must be recursive, without any loops"
   ]
  },
  {
   "cell_type": "code",
   "execution_count": 7,
   "id": "4aba14b7",
   "metadata": {},
   "outputs": [
    {
     "name": "stdout",
     "output_type": "stream",
     "text": [
      "1\n"
     ]
    }
   ],
   "source": [
    "checker = \"Yes\"\n",
    "def collatz(x):\n",
    "    if x == 1:\n",
    "        print(1)\n",
    "    else:\n",
    "        global checker\n",
    "        if checker == \"Yes\":\n",
    "            checker = \"No\"\n",
    "            print(x)\n",
    "            collatz(x)\n",
    "        else:\n",
    "            if x != 1:\n",
    "                if x % 2 == 0:\n",
    "                    x = x / 2\n",
    "                    if x != 1:\n",
    "                        print(int(x))\n",
    "                    collatz(x)\n",
    "                else:\n",
    "                    x = 3 * x + 1\n",
    "                    print(int(x))\n",
    "                    collatz(x)\n",
    "collatz(1)\n"
   ]
  },
  {
   "cell_type": "code",
   "execution_count": 8,
   "id": "def077ad",
   "metadata": {},
   "outputs": [
    {
     "name": "stdout",
     "output_type": "stream",
     "text": [
      "10\n",
      "5\n",
      "16\n",
      "8\n",
      "4\n",
      "2\n",
      "1\n"
     ]
    }
   ],
   "source": [
    "collatz(10)"
   ]
  },
  {
   "cell_type": "markdown",
   "id": "eb8fe97d",
   "metadata": {},
   "source": [
    "Question:5) \n",
    "Write a recursive method binary() that takes a non-negativeinteger n and prints the binary representation of integer n."
   ]
  },
  {
   "cell_type": "code",
   "execution_count": 9,
   "id": "6912770c",
   "metadata": {},
   "outputs": [],
   "source": [
    "def binary(integerNumber):\n",
    "    if integerNumber < 0:\n",
    "        return 'Must be a positive integer'\n",
    "    if integerNumber == 0:\n",
    "        return 0\n",
    "    else:\n",
    "        return (integerNumber % 2 + 10 * binary(int(integerNumber // 2)))"
   ]
  },
  {
   "cell_type": "code",
   "execution_count": 10,
   "id": "6a703cc7",
   "metadata": {},
   "outputs": [
    {
     "data": {
      "text/plain": [
       "0"
      ]
     },
     "execution_count": 10,
     "metadata": {},
     "output_type": "execute_result"
    }
   ],
   "source": [
    "binary(0)"
   ]
  },
  {
   "cell_type": "code",
   "execution_count": 11,
   "id": "a75a0d05",
   "metadata": {},
   "outputs": [
    {
     "data": {
      "text/plain": [
       "1"
      ]
     },
     "execution_count": 11,
     "metadata": {},
     "output_type": "execute_result"
    }
   ],
   "source": [
    "binary(1)"
   ]
  },
  {
   "cell_type": "code",
   "execution_count": 12,
   "id": "d7715b02",
   "metadata": {},
   "outputs": [
    {
     "data": {
      "text/plain": [
       "11"
      ]
     },
     "execution_count": 12,
     "metadata": {},
     "output_type": "execute_result"
    }
   ],
   "source": [
    "binary(3)"
   ]
  },
  {
   "cell_type": "code",
   "execution_count": 13,
   "id": "db3a7a70",
   "metadata": {},
   "outputs": [
    {
     "data": {
      "text/plain": [
       "1001"
      ]
     },
     "execution_count": 13,
     "metadata": {},
     "output_type": "execute_result"
    }
   ],
   "source": [
    "binary(9)"
   ]
  },
  {
   "cell_type": "markdown",
   "id": "342d423a",
   "metadata": {},
   "source": [
    "Question:6) Implement a class named HeadingParser that can be used to parse an HTMLdocument, and retrieve and print all the headings in the document. You shouldimplement your class as a subclass of HTMLParser, defined in Standard Librarymodule html.parser. When fed a string containing HTML code, your class shouldprint the headings, one per line and in the order in which they appear in thedocument. Each heading should be indented as follows: an h1 heading should have\n",
    "BDAT 1004 – Data ProgrammingPage 5 of 7F2021BDAT1004ComputerStudiesindentation 0, and h2 heading should have indentation 1, etc. Test yourimplementation using w3c.html."
   ]
  },
  {
   "cell_type": "code",
   "execution_count": 9,
   "id": "d3b26f29",
   "metadata": {},
   "outputs": [
    {
     "name": "stdout",
     "output_type": "stream",
     "text": [
      "W3C Mission\n",
      "Principles\n"
     ]
    }
   ],
   "source": [
    "from html.parser import HTMLParser\n",
    "\n",
    "\n",
    "class HeadingParser(HTMLParser):\n",
    "    def __init__(self):\n",
    "        super().__init__()\n",
    "        self.in_heading = False    \n",
    "\n",
    "   \n",
    "    def handle_starttag(self, tag, attrs):\n",
    "        # Check if the tag is a heading tag \n",
    "        if tag.startswith(\"h\") and tag[1:].isdigit():\n",
    "            self.in_heading = True    #\n",
    "    \n",
    "    def handle_endtag(self, tag):\n",
    "        #\n",
    "        if self.in_heading and tag.startswith(\"h\") and tag[1:].isdigit():\n",
    "            self.in_heading = False   \n",
    "    \n",
    "   \n",
    "    def handle_data(self, data):\n",
    "        if self.in_heading:\n",
    "            print(data)     \n",
    "\n",
    "infile = open('C:\\\\Users\\\\rajpu\\\\Downloads\\\\w3c.html')\n",
    "content = infile.read()\n",
    "infile.close()\n",
    "\n",
    "hp = HeadingParser()\n",
    "hp.feed(content)"
   ]
  },
  {
   "cell_type": "markdown",
   "id": "4ece2605",
   "metadata": {},
   "source": [
    "Question:7) Implement recursive function webdir() that takes as input: a URL (as a string) andnon-negative integers depth and indent. Your function should visit every webpage reachable from the starting URL web page in depth clicks or less, and printeach web page's URL. As shown below, indentation, specified by indent, shouldbe used to indicate the depth of a URL"
   ]
  },
  {
   "cell_type": "code",
   "execution_count": 15,
   "id": "79a04ab6",
   "metadata": {},
   "outputs": [
    {
     "name": "stdout",
     "output_type": "stream",
     "text": [
      "http://reed.cs.depaul.edu/lperkovic/csc242/test1.html\n"
     ]
    }
   ],
   "source": [
    "import requests\n",
    "\n",
    "from bs4 import BeautifulSoup   \n",
    "\n",
    "def webdir(url, depth, indent):\n",
    "    resp = requests.get(url)\n",
    "    print(url)\n",
    "    if(depth == indent):\n",
    "        return\n",
    "    soup = BeautifulSoup(resp.text, 'html.parser')  \n",
    "    for link in soup.findAll('a'):\n",
    "        new_link = link.get('href')\n",
    "        if(new_link.startswith('https')):\n",
    "            webdir(new_link, depth, indent+1)\n",
    "\n",
    "webdir('http://reed.cs.depaul.edu/lperkovic/csc242/test1.html', 2, 0)"
   ]
  },
  {
   "cell_type": "markdown",
   "id": "ebae238d",
   "metadata": {},
   "source": [
    "Question 8) Write SQL queries on the below database table that return:a) All the temperature data.b) All the cities, but without repetition.c) All the records for India.d) All the Fall records.\n",
    "BDAT 1004 – Data ProgrammingPage 6 of 7F2021BDAT1004ComputerStudiese) The city, country, and season for which the average rainfall is between 200and 400 millimeters.f) The city and country for which the average Fall temperature is above 20degrees, in increasing temperature order.g) The total annual rainfall for Cairo.h) The total rainfall for each season."
   ]
  },
  {
   "cell_type": "markdown",
   "id": "62f49713",
   "metadata": {},
   "source": [
    "a) All the temperature data"
   ]
  },
  {
   "cell_type": "markdown",
   "id": "7770b47d",
   "metadata": {},
   "source": [
    "%%sql\n",
    "select Temperature from weatherTable"
   ]
  },
  {
   "cell_type": "markdown",
   "id": "0516570b",
   "metadata": {},
   "source": [
    "b) All the cities, but without repition"
   ]
  },
  {
   "cell_type": "markdown",
   "id": "207fa986",
   "metadata": {},
   "source": [
    "%%sql\n",
    "select DISTINCT City from weatherTable"
   ]
  },
  {
   "cell_type": "markdown",
   "id": "af9fa912",
   "metadata": {},
   "source": [
    "%%sql\n",
    "select * from weatherTable where Country='India'"
   ]
  },
  {
   "cell_type": "raw",
   "id": "60eb18ac",
   "metadata": {},
   "source": [
    "d) All the fall records"
   ]
  },
  {
   "cell_type": "raw",
   "id": "88e4c1d4",
   "metadata": {},
   "source": [
    "%%sql\n",
    "select * from weatherTable where Season='Fall'"
   ]
  },
  {
   "cell_type": "raw",
   "id": "c860e3fb",
   "metadata": {},
   "source": [
    "e) The city, country, and season for which the average rainfall is between 200and 400 millimeters"
   ]
  },
  {
   "cell_type": "markdown",
   "id": "82f1cae9",
   "metadata": {},
   "source": [
    "%%sql\n",
    "SELECT  City, Country, Season, AVG(Rainfall) FROM weatherTable \n",
    "GROUP BY Rainfall\n",
    "Having AVG(Rainfall) BETWEEN 200 AND 400;"
   ]
  },
  {
   "cell_type": "markdown",
   "id": "08b3d1ff",
   "metadata": {},
   "source": [
    "f) The city and country for which the average Fall temperature is above 20degrees, in increasing temperature order"
   ]
  },
  {
   "cell_type": "markdown",
   "id": "79c77c79",
   "metadata": {},
   "source": [
    "%%sql\n",
    "select City, Country, AVG(Temperature) FROM weatherTable\n",
    "WHERE Season = 'Fall'  \n",
    "group by Temperature\n",
    "HAVING AVG(Temperature) > 20\n",
    "ORDER BY AVG(Temperature) ASC;"
   ]
  },
  {
   "cell_type": "raw",
   "id": "377c5bfa",
   "metadata": {},
   "source": [
    "g) The total annual rainfall for Cairo"
   ]
  },
  {
   "cell_type": "raw",
   "id": "bf60b00f",
   "metadata": {},
   "source": [
    "%%sql\n",
    "select City, SUM(Rainfall) FROM weatherTable where City='Cairo'"
   ]
  },
  {
   "cell_type": "markdown",
   "id": "3a80a2e0",
   "metadata": {},
   "source": [
    "h)The total rainfall for each season."
   ]
  },
  {
   "cell_type": "raw",
   "id": "333ddaa5",
   "metadata": {},
   "source": [
    "%%sql\n",
    "select Season, SUM(Rainfall) FROM weatherTable\n",
    "group by Season"
   ]
  },
  {
   "cell_type": "markdown",
   "id": "28ef744a",
   "metadata": {},
   "source": [
    "Question 9) Write list comprehension expressions that use list words and generate the followinglists:"
   ]
  },
  {
   "cell_type": "code",
   "execution_count": 16,
   "id": "006c3008",
   "metadata": {
    "scrolled": true
   },
   "outputs": [
    {
     "name": "stdout",
     "output_type": "stream",
     "text": [
      "['THE', 'QUICK', 'BROWN', 'FOX', 'JUMPS', 'OVER', 'THE', 'LAZY', 'DOG']\n",
      "\n",
      "\n",
      "['the', 'quick', 'brown', 'fox', 'jumps', 'over', 'the', 'lazy', 'dog']\n",
      "\n",
      "\n",
      "[3, 5, 5, 3, 5, 4, 3, 4, 3]\n",
      "\n",
      "\n",
      "[['THE', 'the', 3], ['QUICK', 'quick', 5], ['BROWN', 'brown', 5], ['FOX', 'fox', 3], ['JUMPS', 'jumps', 5], ['OVER', 'over', 4], ['THE', 'the', 3], ['LAZY', 'lazy', 4], ['DOG', 'dog', 3]]\n",
      "\n",
      "\n",
      "['quick', 'brown', 'jumps', 'over', 'lazy']\n"
     ]
    }
   ],
   "source": [
    "words = [\"The\", \"quick\", \"brown\", \"fox\", \"jumps\", \"over\", \"the\", \"lazy\", \"dog\"]\n",
    "\n",
    "# a) Convert words into upper case\n",
    "wordsUpper = [word.upper() for word in words]\n",
    "print(wordsUpper)\n",
    "print(\"\\n\")\n",
    "\n",
    "\n",
    "# b) Convert words into lower case\n",
    "\n",
    "wordsLower = [word.lower() for word in words]\n",
    "print(wordsLower)\n",
    "print(\"\\n\")\n",
    "\n",
    "\n",
    "# c) the list of length of words in list words\n",
    "\n",
    "wordsLength = []\n",
    "for w in words:\n",
    "    wordsLength.append(len(w))     \n",
    "print(wordsLength)\n",
    "print(\"\\n\")\n",
    "\n",
    "\n",
    "# d) the list containing a list for every word of list words, where each list contains the word in uppercase and lowercase and \n",
    "# the length of the word\n",
    "\n",
    "initializeCounterValue = 0\n",
    "singleListArray = []\n",
    "    \n",
    "for j in words:\n",
    "    singleListArray.append(wordsUpper[initializeCounterValue])\n",
    "    singleListArray.append(wordsLower[initializeCounterValue])\n",
    "    singleListArray.append(wordsLength[initializeCounterValue])\n",
    "    initializeCounterValue = initializeCounterValue + 1\n",
    "    \n",
    "    delimiterVariableLimit = 3\n",
    "resultArray = [singleListArray[additor:additor+delimiterVariableLimit] for additor in range(0, len(singleListArray), delimiterVariableLimit)]\n",
    "print(resultArray)\n",
    "print(\"\\n\")\n",
    "\n",
    "# e) the list of words in list words containing 4 or more characters\n",
    "\n",
    "def wordString(k, str):    \n",
    "    string = []     \n",
    "    text = str.split(\" \")  \n",
    "    for x in text:         \n",
    "        if len(x) >= k:            \n",
    "            string.append(x)             \n",
    "    return string\n",
    "    \n",
    "result_list = [''.join([str(c) for c in lst]) for lst in words]\n",
    "result_string = ' '.join(result_list)\n",
    "requiredCharacterLength = 4\n",
    "print(wordString(requiredCharacterLength, result_string))"
   ]
  }
 ],
 "metadata": {
  "kernelspec": {
   "display_name": "Python 3 (ipykernel)",
   "language": "python",
   "name": "python3"
  },
  "language_info": {
   "codemirror_mode": {
    "name": "ipython",
    "version": 3
   },
   "file_extension": ".py",
   "mimetype": "text/x-python",
   "name": "python",
   "nbconvert_exporter": "python",
   "pygments_lexer": "ipython3",
   "version": "3.11.5"
  }
 },
 "nbformat": 4,
 "nbformat_minor": 5
}
